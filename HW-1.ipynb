{
 "cells": [
  {
   "cell_type": "code",
   "execution_count": 66,
   "id": "9e5b23aa",
   "metadata": {},
   "outputs": [
    {
     "name": "stdout",
     "output_type": "stream",
     "text": [
      "請輸入一個介於0到255的數字：7\n",
      "二進位轉換為111\n",
      "十六進位轉換為7\n"
     ]
    }
   ],
   "source": [
    "number=int(input(\"請輸入一個介於0到255的數字：\"));\n",
    "\n",
    "def binary_hex_converter(number):\n",
    "    \n",
    "    #二進位轉換\n",
    "    binary=\"\";\n",
    "    for i in range(7,-1,-1):\n",
    "        if number>=(2**i):\n",
    "            binary=binary+\"1\";\n",
    "            number=number-(2**i);\n",
    "        else:\n",
    "            binary=binary+\"0\";\n",
    "    print(\"二進位轉換為\"+str(int(binary)));\n",
    "    \n",
    "    #十六進位轉換\n",
    "    hexadecimal=\"\";\n",
    "    first_digit=binary[0:4];\n",
    "    second_digit=binary[4:8];\n",
    "    out_of_ten=\"ABCDEF\";\n",
    "    k=0;\n",
    "    n=0;\n",
    "    \n",
    "    #第一位數\n",
    "    for j in range(0,4,1):\n",
    "        k=k+int(first_digit[j])*(2**(3-j));\n",
    "    if k>=10:\n",
    "        first_digit=out_of_ten[k-10];\n",
    "    elif k==0:\n",
    "        first_digit=\"\";\n",
    "    else:\n",
    "        first_digit=str(k);\n",
    "    \n",
    "    #第二位數\n",
    "    for m in range(0,4,1):\n",
    "        n=n+int(second_digit[m])*(2**(3-m));\n",
    "    if n>=10:\n",
    "        second_digit=out_of_ten[n-10];\n",
    "    else:\n",
    "        second_digit=str(n);\n",
    "    \n",
    "    hexadecimal=first_digit+second_digit;\n",
    "    return(hexadecimal);\n",
    "\n",
    "\n",
    "if number>255 or number<0:\n",
    "    print(\"The input should be a decimal number between 0~255\");\n",
    "else:\n",
    "    print(\"十六進位轉換為\"+binary_hex_converter(number));\n"
   ]
  },
  {
   "cell_type": "code",
   "execution_count": null,
   "id": "ce17ce16",
   "metadata": {},
   "outputs": [],
   "source": []
  },
  {
   "cell_type": "code",
   "execution_count": null,
   "id": "99eef844",
   "metadata": {},
   "outputs": [],
   "source": []
  }
 ],
 "metadata": {
  "kernelspec": {
   "display_name": "Python 3",
   "language": "python",
   "name": "python3"
  },
  "language_info": {
   "codemirror_mode": {
    "name": "ipython",
    "version": 3
   },
   "file_extension": ".py",
   "mimetype": "text/x-python",
   "name": "python",
   "nbconvert_exporter": "python",
   "pygments_lexer": "ipython3",
   "version": "3.8.8"
  }
 },
 "nbformat": 4,
 "nbformat_minor": 5
}
